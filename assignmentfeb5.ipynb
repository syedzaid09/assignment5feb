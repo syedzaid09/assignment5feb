{
 "cells": [
  {
   "cell_type": "markdown",
   "id": "a5ded198-d93f-4b34-a795-a3f2edd9b606",
   "metadata": {},
   "source": [
    "Qus1.Create a python program to sort the given list of tuples based on integer value using a lambda function.\n",
    "[('Sachin Tendulkar', 34357), ('Ricky Ponting', 27483), ('Jack Kallis', 25534), ('Virat Kohli', 24936)]"
   ]
  },
  {
   "cell_type": "code",
   "execution_count": 2,
   "id": "b6208002-5c02-4516-8a79-c94bee23fdbb",
   "metadata": {},
   "outputs": [
    {
     "data": {
      "text/plain": [
       "[('Virat Kohli', 24936),\n",
       " ('Jack Kallis', 25534),\n",
       " ('Ricky Ponting', 27483),\n",
       " ('Sachin Tendulkar', 34357)]"
      ]
     },
     "execution_count": 2,
     "metadata": {},
     "output_type": "execute_result"
    }
   ],
   "source": [
    "sorted([('Sachin Tendulkar', 34357), ('Ricky Ponting', 27483), ('Jack Kallis', 25534), ('Virat Kohli', 24936)],key=lambda x:x[1])"
   ]
  },
  {
   "cell_type": "markdown",
   "id": "2cc43ea6-4893-4c0a-a08a-7a46fd19ac2a",
   "metadata": {},
   "source": [
    "Qus2.write a python program to find the square of all the numbers inthe given list of integers using lambda and map functions.\n",
    "[1, 2, 3, 4, 5, 6, 7, 8, 9, 10]"
   ]
  },
  {
   "cell_type": "code",
   "execution_count": 9,
   "id": "993a1f6f-e0c9-44ee-b4d0-bb1aef6f06e8",
   "metadata": {},
   "outputs": [
    {
     "data": {
      "text/plain": [
       "[1, 4, 9, 16, 25, 36, 49, 64, 81, 100]"
      ]
     },
     "execution_count": 9,
     "metadata": {},
     "output_type": "execute_result"
    }
   ],
   "source": [
    "#Solution 2:\n",
    "l=[1, 2, 3, 4, 5, 6, 7, 8, 9, 10]\n",
    "list(map(lambda x:x**2,l))"
   ]
  },
  {
   "cell_type": "markdown",
   "id": "72a69d35-0044-4d4c-9af3-b8a413c8bdb9",
   "metadata": {},
   "source": [
    "Qus3.write a python program to convert the given list of integers into a tuple of strings.use map and lambda functions.\n",
    "\n",
    "Given String: [1, 2, 3, 4, 5, 6, 7, 8, 9, 10]\n",
    "\n",
    "Expected output: ('1', '2', '3', '4', '5', '6', '7', '8', '9', '10')"
   ]
  },
  {
   "cell_type": "code",
   "execution_count": 21,
   "id": "fce94d60-10c9-46c8-92c6-36ae40789e51",
   "metadata": {},
   "outputs": [
    {
     "data": {
      "text/plain": [
       "('1', '2', '3', '4', '5', '6', '7', '8', '9', '10')"
      ]
     },
     "execution_count": 21,
     "metadata": {},
     "output_type": "execute_result"
    }
   ],
   "source": [
    "#solution 3\n",
    "l=[1, 2, 3, 4, 5, 6, 7, 8, 9, 10]\n",
    "tuple(map(lambda s:str(s),l))"
   ]
  },
  {
   "cell_type": "markdown",
   "id": "7ba3c211-26ee-4019-a7e0-df93c1eaf507",
   "metadata": {},
   "source": [
    "Qus4. write a python program using reduce function to compute the product of a list containing number from 1 to 25."
   ]
  },
  {
   "cell_type": "code",
   "execution_count": 5,
   "id": "2a2f7236-bd60-449b-b338-cf35e98ea3e3",
   "metadata": {},
   "outputs": [],
   "source": [
    "from functools import reduce"
   ]
  },
  {
   "cell_type": "code",
   "execution_count": 8,
   "id": "8b71572a-874c-4d98-bcf5-4e7455b4acca",
   "metadata": {},
   "outputs": [
    {
     "name": "stdout",
     "output_type": "stream",
     "text": [
      "15511210043330985984000000\n"
     ]
    }
   ],
   "source": [
    "def product(x,y):\n",
    "    return x*y\n",
    "l=[i for i in range(1,26)]\n",
    "print(reduce(product,l))"
   ]
  },
  {
   "cell_type": "markdown",
   "id": "826134f6-1a64-4025-942f-8efd8e684792",
   "metadata": {},
   "source": [
    "Qus5.. Write a python program to filter the numbers in a given list that are divisible by 2 and 3 using the \n",
    "filter function.\n",
    "\n",
    "\n",
    "[2, 3, 6, 9, 27, 60, 90, 120, 55, 46]\n"
   ]
  },
  {
   "cell_type": "code",
   "execution_count": 2,
   "id": "f4a02647-88d9-4a82-9038-2d604fe637db",
   "metadata": {},
   "outputs": [
    {
     "name": "stdout",
     "output_type": "stream",
     "text": [
      "[6, 60, 90, 120]\n"
     ]
    }
   ],
   "source": [
    "#solution 5:\n",
    "def divisible(n):\n",
    "    if n%2==0 and n%3==0:\n",
    "        return True\n",
    "    else:\n",
    "        return False\n",
    "l=[2,3,6,9,27,60,90,120,55,46]\n",
    "l=list(filter(divisible,l))\n",
    "print(l)"
   ]
  },
  {
   "cell_type": "markdown",
   "id": "29cd2541-18e8-40e2-96e7-dc954cdbc846",
   "metadata": {},
   "source": [
    "Q6. Write a python program to find palindromes in the given list of strings using lambda and filter function.\n",
    "\n",
    "\n",
    "['python', 'php', 'aba', 'radar', 'level']"
   ]
  },
  {
   "cell_type": "code",
   "execution_count": 9,
   "id": "31163a63-cefa-4a6a-a68a-54129b3432e9",
   "metadata": {},
   "outputs": [
    {
     "data": {
      "text/plain": [
       "['php', 'aba', 'radar', 'level']"
      ]
     },
     "execution_count": 9,
     "metadata": {},
     "output_type": "execute_result"
    }
   ],
   "source": [
    "l=['python', 'php', 'aba', 'radar', 'level']\n",
    "list(filter(lambda x:x==x[::-1],l))"
   ]
  },
  {
   "cell_type": "code",
   "execution_count": null,
   "id": "8693a166-4c49-41aa-a6c9-33ec2bce0a0a",
   "metadata": {},
   "outputs": [],
   "source": []
  }
 ],
 "metadata": {
  "kernelspec": {
   "display_name": "Python 3 (ipykernel)",
   "language": "python",
   "name": "python3"
  },
  "language_info": {
   "codemirror_mode": {
    "name": "ipython",
    "version": 3
   },
   "file_extension": ".py",
   "mimetype": "text/x-python",
   "name": "python",
   "nbconvert_exporter": "python",
   "pygments_lexer": "ipython3",
   "version": "3.10.8"
  }
 },
 "nbformat": 4,
 "nbformat_minor": 5
}
